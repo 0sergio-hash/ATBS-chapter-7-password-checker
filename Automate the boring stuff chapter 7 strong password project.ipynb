{
 "cells": [
  {
   "cell_type": "markdown",
   "metadata": {},
   "source": [
    "# [Instructions for this project](https://automatetheboringstuff.com/2e/chapter7/)"
   ]
  },
  {
   "cell_type": "code",
   "execution_count": 1,
   "metadata": {},
   "outputs": [],
   "source": [
    "# Practice : Strong password checker\n",
    "import re\n",
    "\n",
    "def check_password(pwd):\n",
    "    \n",
    "    # Defines a pattern of 8 or more {8,} letters and numbers [a-zA-Z0-9] \n",
    "    lengthRegex = re.compile(r'[a-zA-Z0-9]{8,}')\n",
    "    \n",
    "    # Defines a pattern of any LOWERCASE letter, + sign means it must appear one or more times\n",
    "    lowerRegex = re.compile(r'[a-z]+')\n",
    "\n",
    "    # Defines a pattern of any UPPERCASE letter, + sign means it must appear one or more times\n",
    "    upperRegex = re.compile(r'[A-Z]+')\n",
    "\n",
    "    # Defines a pattern of any NUMBER, represented by \"\\d\", + sign means it must appear one or more times\n",
    "    numRegex = re.compile(r'\\d+')\n",
    "    \n",
    "    \n",
    "    # The following 4 expressions evaluate to TRUE or FALSE by\n",
    "    #1. Searching the password string for each pattern in turn, using the findall() method\n",
    "    #2. If the length, or len() of the match list returned by the findall() method is 0, the password is missing that element\n",
    "    #3. So, if len() != 0 , that means this element WAS present in the passowrd string\n",
    "    \n",
    "    # The TRUE and FALSE values are stored in variables with the assignment statement (I.E. length = , or num = )\n",
    "    \n",
    "    \n",
    "    length = len(lengthRegex.findall(pwd)) != 0        \n",
    "\n",
    "    lower = len(lowerRegex.findall(pwd)) != 0\n",
    "\n",
    "    upper = len(upperRegex.findall(pwd)) != 0\n",
    "\n",
    "    num = len(numRegex.findall(pwd)) != 0\n",
    "    \n",
    "    # The following if statements instruct the program to give specific error messages\n",
    "    # based on which variable(s) are false/ which elements are missing using the print() function.\n",
    "    \n",
    "    # Becase it is a series of if statements, as opposed to elif and else statements, ALL conditions are checked,\n",
    "    # allowing the program to point out all the errors in the password\n",
    "    \n",
    "    \n",
    "    if length == False:\n",
    "        print('Error: Password must be 8 or more characters long.')\n",
    "    \n",
    "    if lower == False:\n",
    "        print('Error: Password must have at least one lowercase letter.')\n",
    "        \n",
    "    if upper == False:\n",
    "        print('Error: Password must have at least one uppercase letter.')\n",
    "    \n",
    "    if num == False:\n",
    "        print('Error: Password must have at least one digit.')\n",
    "    \n",
    "    # This final if statement asks if ALL variables equal true, and prints a success message\n",
    "    # if all desired elements are included in our password string\n",
    "    \n",
    "    if length == True and lower == True and upper == True and num == True:\n",
    "        print('Success: Valid password!')"
   ]
  },
  {
   "cell_type": "code",
   "execution_count": 2,
   "metadata": {},
   "outputs": [
    {
     "name": "stdout",
     "output_type": "stream",
     "text": [
      "Success: Valid password!\n"
     ]
    }
   ],
   "source": [
    "# Good password\n",
    "\n",
    "pwd = 'Tm444555'\n",
    "\n",
    "check_password(pwd)"
   ]
  },
  {
   "cell_type": "code",
   "execution_count": 3,
   "metadata": {},
   "outputs": [
    {
     "name": "stdout",
     "output_type": "stream",
     "text": [
      "Error: Password must be 8 or more characters long.\n",
      "Error: Password must have at least one lowercase letter.\n",
      "Error: Password must have at least one uppercase letter.\n"
     ]
    }
   ],
   "source": [
    "# Missing letters, too short\n",
    "\n",
    "pwd = '1234567'\n",
    "\n",
    "check_password(pwd)"
   ]
  }
 ],
 "metadata": {
  "kernelspec": {
   "display_name": "ibm_project",
   "language": "python",
   "name": "ibm_project"
  },
  "language_info": {
   "codemirror_mode": {
    "name": "ipython",
    "version": 3
   },
   "file_extension": ".py",
   "mimetype": "text/x-python",
   "name": "python",
   "nbconvert_exporter": "python",
   "pygments_lexer": "ipython3",
   "version": "3.7.9"
  }
 },
 "nbformat": 4,
 "nbformat_minor": 4
}
